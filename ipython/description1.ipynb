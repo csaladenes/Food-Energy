{
 "cells": [
  {
   "cell_type": "markdown",
   "metadata": {},
   "source": [
    "<h1>Food Energy Flows Exploratorium</h1>\n",
    "<p>A project by <a href=\"http://www.csaladen.es\" target=\"_blank\" >Dénes Csala</a> and <a href=\"http://www.ssgouridis.org\" target=\"_blank\" >Sgouris Sgouridis</a> at <a  href=\"http://www.masdar.ac.ae\" target=\"_blank\">Masdar Institute of Science and Technology</a></p>\n",
    "<h2>Presentations</h2>\n",
    "<table style=\"border:none;\">\n",
    "    <tr style=\"border:none;\">\n",
    "        <td style=\"border:none;\"><a href=\"http://www.csaladen.es/doc/Denes_Csala_SYDIC_2015.pptx\" target=\"_blank\"><img style=\"height:200px\" src=\"https://food.csaladen.es/img/pres1.jpg\"></a></td>\n",
    "    </tr>\n",
    "    <tr style=\"border:none;\">\n",
    "        <td style=\"text-align:center;border:none;\" ><a href=\"http://www.csaladen.es/doc/Denes_Csala_SYDIC_2015.pptx\" target=\"_blank\">Visualizing the <b>Energetic Sustainbility</b> of Global <br/>and National Agricultural and Food Systems</a></td>\n",
    "    </tr>\n",
    "    <tr style=\"border:none;\">\n",
    "        <td style=\"text-align:center;border:none;\" >First Mediterranean Conference on Food Supply <br/>and Distribution Systems in Urban Environments<br/> July 2015, Rome</a></td>\n",
    "    </tr>\n",
    "</table>\n",
    "<h2>Articles</h2>       \n",
    "<p>(1) <a href=\"#\" target=\"_blank\" >Food and Energy in the Global Sustainable Energy Transition: An Energy Metabolism View of Global Agriculture Systems</a>, 2015, in preparation</p>\n",
    "<h2>Models</h2>  \n",
    "<p>\n",
    "<div style=\"display:block;overflow: hidden;white-space: nowrap;\"><span style=\"float:left;\">Food Energy Flows Exploratorium&nbsp;|&nbsp;<a href=\"http://food.csaladen.es\" target=\"_blank\" >Interactive website</a>&nbsp;|&nbsp;<a href=\"http://food.csaladen.es/js/food.js\" target=\"_blank\" >source file</a></span></div>\n",
    "<div style=\"display:block;overflow: hidden;white-space: nowrap;\"><span style=\"float:left;\">Food Energy Flows Sankey Diagram&nbsp;|&nbsp;<a href=\"http://food.csaladen.es\" target=\"_blank\" >Interactive visualization</a>&nbsp;|&nbsp;<a href=\"http://food.csaladen.es/js/sankey.js\" target=\"_blank\" >source file</a></span></div><div style=\"display:block;overflow: hidden;white-space: nowrap;\"><span style=\"float:left;\">Food Energy Flows World Map&nbsp;|&nbsp;<a href=\"http://food.csaladen.es/#&map\" target=\"_blank\" >Interactive visualization</a>&nbsp;|&nbsp;<a href=\"http://food.csaladen.es/map/index.html\" target=\"_blank\" >source file</a></span></div>\n",
    "<div style=\"display:block;overflow: hidden;white-space: nowrap;\"><span style=\"float:left;\">Food Energy Flows Data Plots&nbsp;|&nbsp;<a href=\"http://food.csaladen.es/#&scatter\" target=\"_blank\" >Interactive visualization</a>&nbsp;|&nbsp;<a href=\"http://food.csaladen.es/js/scatter.js\" target=\"_blank\" >source file</a></span></div>\n",
    "<div style=\"display:block;overflow: hidden;white-space: nowrap;\"><span style=\"float:left;\">Food Energy Flows Data Parser&nbsp;|&nbsp;<a href=\"http://nbviewer.ipython.org/url/food.csaladen.es/ipython/S1.ipynb\" target=\"_blank\" >IPython notebook</a>&nbsp;|&nbsp;<a href=\"http://food.csaladen.es/ipython/S1.ipynb\" target=\"_blank\" >source file</a></span></div>\n",
    "<div style=\"display:block;overflow: hidden;white-space: nowrap;\"><span style=\"float:left;\">Food Energy Flows Data Plotter&nbsp;|&nbsp;<a href=\"http://nbviewer.ipython.org/url/food.csaladen.es/ipython/S2.ipynb\" target=\"_blank\" >IPython notebook</a>&nbsp;|&nbsp;<a href=\"http://food.csaladen.es/ipython/S2.ipynb\" target=\"_blank\" >source file</a></span></div>\n",
    "</p>\n",
    "<h2>Cite</h2>       \n",
    "<p>\n",
    "<div>As of October 2017, please contact the authors (<a href=\"mailto:dcsala@masdar.ac.ae\" target=\"_blank\" >Dénes</a>, <a href=\"mailto:ssgouridis@masdar.ac.ae\" target=\"_blank\" >Sgouris</a>) before this citing or using this work in any form - or if you would like to use the data presented on this website more extensively or you would like to collaborate on the project.</div>\n",
    "</p>"
   ]
  },
  {
   "cell_type": "markdown",
   "metadata": {},
   "source": [
    "<h2>Data</h2>\n",
    "<p>The major data sources for this work are the <a target=\"_blank\" href=\"http://faostat3.fao.org/faostat-gateway/go/to/download/FB/*/E\">Food Balance Sheets</a> of the <a target=\"_blank\" href=\"http://faostat3.fao.org/faostat-gateway/go/to/home/E\">Statistical Division (FAOSTAT)</a> of the <a target=\"_blank\" href=\"http://www.fao.org/home/en/\">Food and Agriculture Organization of the United Nations (FAO)</a>. Other minor data sources will be referenced further in the document, where relevant, including the <a href=\"http://www.eia.gov/beta/international/data/browser/#?ord=SA&cy=2012&v=H&vo=0&so=0&io=0&start=1980&end=2012&vs=INTL.44-1-AFRC-QBTU.A~INTL.44-1-ASOC-QBTU.A~INTL.44-1-CSAM-QBTU.A~INTL.44-1-EURA-QBTU.A~INTL.44-1-EURO-QBTU.A~INTL.44-1-MIDE-QBTU.A~INTL.44-1-NOAM-QBTU.A\" target=\"_blank\">EIA</a>, <a href=\"http://www.bp.com/en/global/corporate/about-bp/energy-economics/energy-outlook.html\" target=\"_blank\">BP</a> and <a href=\"http://data.worldbank.org/\" target=\"_blank\">World Bank</a> open databases.\n",
    "</p>\n",
    "<h2>Processing</h2>\n",
    "<p>The data processing has been done using the <a target=\"_blank\" href=\"https://store.continuum.io/cshop/anaconda/\">Anaconda</a> distribution of <a target=\"_blank\" href=\"https://www.python.org/\">Python 2.7</a> using the <a target=\"_blank\" href=\"http://ipython.org/\">IPython Notebook</a> editor. The <i>FAOSTAT</i> database is accessed using the open-scource <a target=\"_blank\" href=\"https://github.com/kennethreitz/requests\">requests</a> <i>Python</i> library and the data is loaded into a <a target=\"_blank\" href=\"http://pandas.pydata.org/\">pandas</a> dataframe, which represents the backbone of the data analysis. Numerical processing is done with <a target=\"_blank\" href=\"http://www.numpy.org/\">NumPy</a>. The <i>Python</i> code outputs  standardized <a target=\"_blank\" href=\"http://json.org/\">JSON</a> files for every country and year, which is used as the input for the web-based visualization. The code can be found in the <b><a href=\"http://food.csaladen.es/ipython/S1.ipynb\" target=\"_blank\" >Food Energy Flows Data Parser</a></b> <i>Ipython</i> notebook. The parser has an option to access the databases via a direct <a href=\"https://en.wikipedia.org/wiki/Application_programming_interface\" target=\"_blank\" >API</a> connection. Alternatively a mirror of all used database files can be found <a href=\"http://food.csaladen.es/db/\" target=\"_blank\" >here</a>. All the <i>JSON</i> files that the parser generates, which serve as input for the web-based visualization, can also be found <a href=\"http://food.csaladen.es/json/\" target=\"_blank\" >here</a> - since there are 20 individual files for each country for each year, this page might take a while to load.\n",
    "</p>\n",
    "<h2>Visualization</h2>\n",
    "<h3>Sankey</h3>\n",
    "<p>Using the <i>JSON</i> files generated by the <i>Python</i> script, the data is represented in a native browser visualization format using the <a target=\"_blank\" href=\"http://d3js.org/\">D3.js</a> data-oriented javascript framework. A <a target=\"_blank\" href=\"http://en.wikipedia.org/wiki/Sankey_diagram\">Sankey diagram</a> format is used, inspired by <a target=\"_blank\"  href=\"http://bost.ocks.org/mike/sankey/\">Mike Bostock's implementation</a> (although it has been heavily modifed and extended in order to allow for smooth updating and for increased compatibility with other plugins used throughout this work), which is based on the <a target=\"_blank\"  href=\"http://tamc.github.io/Sankey/\">initial version by Thomas Counsell</a>. In addition to the <i>Sankey</i> diagram, pie charts are used for increased detail, using the <a target=\"_blank\" href=\"http://nvd3.org/\">NVD3</a> extension for <i>D3.js</i>. The data can be viewed dynamically and animated over time, using the <a target=\"_blank\" href=\"http://skidding.github.io/dragdealer/\">Dragdealer.js</a> slider. The code can be found in the <b><a href=\"http://food.csaladen.es/js/sankey.js\" target=\"_blank\" >sankey.js</a></b> <a href=\"https://en.wikipedia.org/wiki/JavaScript\" target=\"_blank\">JavaScript</a> file and by editing the <a href=\"https://en.wikipedia.org/wiki/HTML\" target=\"_blank\">HTML</a> source code of the <b><a href=\"http://food.csaladen.es/\" target=\"_blank\" >main page</a></b>. A separate <a href=\"http://sankey.csaladen.es/\" target=\"_blank\" >Sankey Diagram Generator</a> site is an offspring of this project.</p>\n",
    "<h3>Data Plots</h3>\n",
    "<p>The data plots on the <b><a href=\"http://food.csaladen.es/&#scatter\" target=\"_blank\">Food Energy Flows Data Plots</a></b> page are generated using <b><a href=\"http://food.csaladen.es/ipython/S2.ipynb\" target=\"_blank\" >Food Energy Flows Data Plotter</a></b> <i>Ipython</i> notebook and <i>D3.js</i>. Plots inside the <i>IPython</i> notebook that feature a dynamic slider are produced using the <a href=\"https://github.com/jakevdp/JSAnimation\">JSAnimation</a> <a href=\"http://matplotlib.org/\">matplotlib</a> plugin by <a href=\"http://www.astro.washington.edu/users/vanderplas/\" target=\"_blank\">Jake VanderPlas</a>. Plot interactivity is achieved with the <a href=\"http://mpld3.github.io/\" target=\"_blank\">mpld3</a> plugin for <i>matplotlib</i> and <i>D3.js</i>. A collection of all generated plots can be found <a href=\"http://food.csaladen.es/plots/\" target=\"_blank\" >here</a>.</p>\n",
    "<h3>World Map</h3>\n",
    "<p>The <b><a href=\"http://food.csaladen.es/&#map\" target=\"_blank\" >Food Energy Flows World Map</a></b> is an <a href=\"http://get.adobe.com/flashplayer/\" target=\"_blank\">Adobe Flash</a> object and it is visualized with <a href=\"http://www.statsilk.com/software/statplanet\" target=\"_blank\">StatPlanet</a>. It also supports producing scatter plots for investigating the relationships between the basic indicators. The <a href=\"https://en.wikipedia.org/wiki/Comma-separated_values\" target=\"_blank\" >CSV</a> files necessary for input are generated in the last part of the <a href=\"http://food.csaladen.es/ipython/S2.ipynb\" target=\"_blank\" >Food Energy Flows Data Plotter</a> <i>Ipython</i> notebook.</p>"
   ]
  },
  {
   "cell_type": "markdown",
   "metadata": {},
   "source": [
    "## Structure"
   ]
  },
  {
   "cell_type": "markdown",
   "metadata": {},
   "source": [
    "Food data comes from <i>FAOSTAT Food Balance Sheets</i> in zipped <i>CSV</i> files. This comes in the form of tonnage of primary (crops) and secondary (processed, animal and aquatic) food products, and then we later convert this to energy using the characteristic energy content of each food type. We calculate the specific energy content also using the *FAOSTAT* database food weight and energy values.  \n",
    "\n",
    "The fertilizer data comes from the <i>FAOSTAT</i> in tonnage for each fertilizer end product (urea, potash, etc.). Then we categorize these into P, K and N type fertilizers and convert the tonnage for each fertilizer type to nutrient content. Then, using the specific energy conversion factors of the chemical processes of fertilizers manufacturing, we convert these into equivalent fossil fuel energy input. Since each fertilizers can be manufactured from multiple types of fossil fuels, the total fossil energy requirement is split accordingly.\n",
    "\n",
    "The direct fossil inputs into agriculture can be split into two groups:\n",
    "    \n",
    "  -\tDirect fossil input for crops - fossil fuels used by agricultural machinery. This data comes from <i>FAOSTAT</i>, where available, otherwise it is interpolated from averages of neighbors or global values.\n",
    "  -\tFossil fuels for fishing - this data comes from *FAOSTAT* for larger fishing nations. For smaller ones, we calculate a characteristic fossil energy requirement per ton of fish for the neighboring countries or global values based on geographical latitude bands.\n",
    "\n",
    "Electricity is a more complex area as it is composed of:\n",
    "\n",
    "- Electricity outputs:\n",
    "    -\tElectricity for irrigation - this data comes from *FAOSTAT*, where available. Otherwise we have calculated a characteristic energy requirement per acre of irrigated land for each climate belt based on the irrigation intensities of neighboring countries and global values based on geographical latitude bands.\n",
    "    -\tElectricity for food processing. This data comes from *FAOSTAT*, where available. Otherwise an alternative approach is used.  \n",
    "        - First, we try energy proportionality:\n",
    "            - If the World Bank Development Indicators (WDI) reports the electricity used by agriculture, then that value is used. \n",
    "            - If not then if the WDI has agriculture electricity usage share and total electricity consumption, we calculate the electricity used by agriculture from there.\n",
    "            - If electricity data is not available but total energy is, the data is scaled proportionally with the electricity's share in the total energy mix for a particular country in a particular year.\n",
    "        -\tIf none of the above works, we try GDP proportionality:\n",
    "            -\tIf *Agriculture as a fraction of GDP* is reported in the *WDI* for a particular country, then we calculate the country specific energy intensity of the economy using energy consumption per unit of GDP. Then continuing the process above, we get the electricity used by agriculture.\n",
    "-\tElectricity inputs:\n",
    "    -\tThe electricity generation by source breakdown is taken from the *WDI* database, or extrapolated from neighbors where not available. Nuclear is zeroed for developing countries.\n",
    "     - Having had the necessary fossil energy output values, characteristic plant efficiencies are used for each fossil fuel type (gas, oil, coal) to get the necessary primary fossil input energy.\n",
    "\n",
    "Labor data is calculated using the daily per capita energy intakes from *FAOSTAT*. A certain number of workhours/workday and workdays/year are used alongside a characteristic average energy expenditure intensity for the activity of farming. Then the fraction of population working in agriculture (*FAOSTAT* or extrapolated from neighbors) gets multiplied by the population (*FAOSTAT* or *WDI*) to get the number of people involved in agriculture. Using the energy intensity calculated above, we get the total energy input as labor. For countries where the daily food energy intake does not meet the necessary minimum for the agricultural activity-specific energy expenditure, it is assumed that all food energy intake is expended for the activity.\n",
    "\n",
    "Import data:\n",
    "\n",
    "  - Food imports and export flows are present for all individual countries, but World values.\n",
    "  -\tImports need to converted to *Value Added Imports* in order to accommodate the fact that they have been produced in a country with a different energy intensity than the target. This is a compromise solution since the alternative is to use the energy return on energy investment (EROEI) values of the source countries of the imported products. However, this would require to calcualte individual crop EROEI's, since the final energy intennsity of crop imports would greatly depend on the imported crop mix. Therefore the total dollar value of food imports (from *FAOSTAT*, if not available then *WDI*, if not available then *UN COMTRADE*) gets multiplied by the energy intensity of the economy of the target country. The energy intensity data comes from *WDI* - as it involves GDP and total energy consumption. This yields the energy expended in the target country to purchase the imports in question. \n",
    "  -\tThe inflow of the imports is then calculated using the primary energy share by source breakdown (fossils, non-combustible renewables & nuclear, biomass) from *WDI* database.\n",
    "  -\tHowever, we also have direct information about the energy content of the imports directly from *FAOSTAT* (which is not the same as the expended energy to purchase them). This is the outflow of the imports.\n",
    "\n",
    "This workflow leads to 3 large categories of inputs:\n",
    "\n",
    "-\tFossil Fuels, Renewables & Nuclear, Labor  \n",
    "\n",
    "And 3 large categories of outputs:\n",
    "\n",
    "-\tFood (Domestic consumption), Exports, Biofuels & Other (and Waste, not part of the balance)\n",
    "\n",
    "In addition the Stock Variation for each year is added to both sides.\n",
    "\n",
    "Then, the energy return on energy investment (EROEI) of each country and region and the globe for each year can be calculated by taking the ratio of the sum of the energy outputs over the sum of the energy inputs. MOnitoring the evolution of the EROEI can offer valuable information into the dynamics of of food and agriculture systems.\n",
    "  \n",
    "We construct two EROEIs:\n",
    "\n",
    " - An EROEI of the agricultural system, that includes locally grown primary crops. We call this the **Agri-system EROEI**.\n",
    " - Another EROEI, when, of top of the above, we include secondary food products, imports and exports. We call this the ** Food system EROEI**.\n",
    "\n",
    "Normalization:\n",
    "\n",
    " - Since the EROEI is subject to variations in the average crop energy content - resutling from changes in the crop mix, as well the subtle evolution of the energy content of seeds and subseeutn crops, we will do a normalization of the EROEI based on the normalized average crop energy content (NAEC) thus removing the effect of crop shifting from the system.\n",
    " - The the NAEC has different values for agri-system and food systems, as they are driven by different phenomena:\n",
    "   \n",
    "    - For the agri-system, the NAEC is equivalent to the intrinsic change in produced primary crop energy content. That is, if a country starts replacing fruits with cereals - i.e. a crop with low energy content with a higher one, this leads to an increase in the average crop energy content of the argi-system. Thus, the real change in the agri-sytem EROEI has to be discounted by this phenomenon.\n",
    "    - For the food system the process is bit more complicated. In the food system the NAEC changes because of the change in the agri-system NAEC, but on top of that also because of a few other factors:\n",
    "    \n",
    "       - The energy intensity of the imported crops to the country changes over time\n",
    "       - The end-use of primary crops changes over time - i.e. cereals start being fed to animals in larger proportions rather than direct human consumption, effectively reducing the NAEC."
   ]
  },
  {
   "cell_type": "markdown",
   "metadata": {},
   "source": [
    "<br>\n",
    "<h2>Disclaimer</h2>\n",
    "<p>We would like to express our gratitude to all of the developers of the libraries used and especially to the affiliates of <i>FAOSTAT</i> for their great database and openly accesible data. The data manipulation algorithms and visualization techniques are open sourced and freely reproducible, forks are welcome on <a href=\"https://github.com/csaladenes/Food-Energy\">GitHub</a> (soon to be made public under <i>MIT license</i>). The concept and methodology are subject to copyright of the authors.</p><br>\n",
    "<br>\n",
    "<a href=\"http://www.csaladen.es\" target=\"_blank\">Dénes Csala</a>&nbsp;&nbsp;|&nbsp;&nbsp;2017"
   ]
  },
  {
   "cell_type": "code",
   "execution_count": 10,
   "metadata": {
    "collapsed": false
   },
   "outputs": [
    {
     "data": {
      "text/html": [
       "<style>\n",
       "html, body, p, h3, h2, h1, table, div, span, .container {font-family: \"Trebuchet MS\", \"Open Sans\", Segoe UI light, Verdana, Tahoma, Helvetica, sans-serif; background: #111; color: #aa8 !important;}\n",
       "a {color:#aa6; text-decoration:underline;}\n",
       "a:hover {color:#aa4; text-decoration:underline;}\n",
       ".prompt, .output, .input_area, #menubar, nav, footer, .slideInDown, .slideOutUp {visibility:hidden !important;opacity:0 !important;}\n",
       "</style>"
      ],
      "text/plain": [
       "<IPython.core.display.HTML object>"
      ]
     },
     "execution_count": 10,
     "metadata": {},
     "output_type": "execute_result"
    }
   ],
   "source": [
    "from IPython.core.display import HTML  \n",
    "styles = open('css/theme1.css','r').read()\n",
    "HTML(styles)"
   ]
  }
 ],
 "metadata": {
  "kernelspec": {
   "display_name": "Python 2",
   "language": "python",
   "name": "python2"
  },
  "language_info": {
   "codemirror_mode": {
    "name": "ipython",
    "version": 2
   },
   "file_extension": ".py",
   "mimetype": "text/x-python",
   "name": "python",
   "nbconvert_exporter": "python",
   "pygments_lexer": "ipython2",
   "version": "2.7.10"
  }
 },
 "nbformat": 4,
 "nbformat_minor": 0
}
